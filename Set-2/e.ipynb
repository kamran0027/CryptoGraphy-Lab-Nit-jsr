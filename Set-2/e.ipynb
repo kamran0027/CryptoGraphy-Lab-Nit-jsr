{
 "cells": [
  {
   "cell_type": "code",
   "execution_count": 5,
   "id": "fb085bd3-d464-4f94-b316-2a5f1ac72dc5",
   "metadata": {},
   "outputs": [
    {
     "name": "stdin",
     "output_type": "stream",
     "text": [
      "Enter plaintext (lowercase, spaces allowed):  hii i am kamran\n"
     ]
    },
    {
     "name": "stdout",
     "output_type": "stream",
     "text": [
      "\n",
      "Plain : hii i am kamran\n",
      "Encryp: tcw e ki eujfnn\n",
      "Decryp: hii i am kamran\n"
     ]
    }
   ],
   "source": [
    "import numpy as np\n",
    "\n",
    "# Fixed 2x2 invertible key\n",
    "K = np.array([[3, 3],\n",
    "              [2, 5]])\n",
    "\n",
    "# Modular inverse function\n",
    "def mod_inv(a, m=26):\n",
    "    return next(x for x in range(1, m) if (a * x) % m == 1)\n",
    "\n",
    "# Matrix inverse mod 26\n",
    "def mat_inv(M, m=26):\n",
    "    det = int(round(np.linalg.det(M))) % m\n",
    "    adj = np.round(np.linalg.inv(M) * det).astype(int) % m\n",
    "    return (mod_inv(det, m) * adj) % m\n",
    "\n",
    "# Text ↔ numbers\n",
    "to_nums = lambda t: [ord(c)-97 for c in t]\n",
    "to_text = lambda nums: ''.join(chr(n%26+97) for n in nums)\n",
    "\n",
    "# Encrypt letters only\n",
    "def hill_encrypt(txt):\n",
    "    letters = [c for c in txt if c.isalpha()]\n",
    "    if len(letters)%2: letters.append('x')\n",
    "    nums = to_nums(letters)\n",
    "    out = []\n",
    "    for i in range(0,len(nums),2):\n",
    "        out.extend(K.dot(nums[i:i+2])%26)\n",
    "    encrypted = to_text(out)\n",
    "    # reinsert spaces\n",
    "    res, idx = [], 0\n",
    "    for c in txt:\n",
    "        if c == ' ': res.append(' ')\n",
    "        else: res.append(encrypted[idx]); idx+=1\n",
    "    return ''.join(res)\n",
    "\n",
    "# Decrypt letters only\n",
    "def hill_decrypt(cipher):\n",
    "    letters = [c for c in cipher if c.isalpha()]\n",
    "    nums = to_nums(letters)\n",
    "    out = []\n",
    "    invK = mat_inv(K)\n",
    "    for i in range(0,len(nums),2):\n",
    "        out.extend(invK.dot(nums[i:i+2])%26)\n",
    "    decrypted = to_text(out)\n",
    "    # remove padding x\n",
    "    decrypted = decrypted.rstrip('x')\n",
    "    # reinsert spaces\n",
    "    res, idx = [], 0\n",
    "    for c in cipher:\n",
    "        if c == ' ': res.append(' ')\n",
    "        else: res.append(decrypted[idx]); idx+=1\n",
    "    return ''.join(res)\n",
    "\n",
    "# ---- Main ----\n",
    "txt = input(\"Enter plaintext (lowercase, spaces allowed): \")\n",
    "enc = hill_encrypt(txt)\n",
    "dec = hill_decrypt(enc)\n",
    "print(\"\\nPlain :\", txt)\n",
    "print(\"Encryp:\", enc)\n",
    "print(\"Decryp:\", dec)\n"
   ]
  },
  {
   "cell_type": "code",
   "execution_count": null,
   "id": "6a894c00-a46b-4f52-868f-8bab964a97ce",
   "metadata": {},
   "outputs": [],
   "source": []
  }
 ],
 "metadata": {
  "kernelspec": {
   "display_name": "Python 3 (ipykernel)",
   "language": "python",
   "name": "python3"
  },
  "language_info": {
   "codemirror_mode": {
    "name": "ipython",
    "version": 3
   },
   "file_extension": ".py",
   "mimetype": "text/x-python",
   "name": "python",
   "nbconvert_exporter": "python",
   "pygments_lexer": "ipython3",
   "version": "3.11.7"
  }
 },
 "nbformat": 4,
 "nbformat_minor": 5
}

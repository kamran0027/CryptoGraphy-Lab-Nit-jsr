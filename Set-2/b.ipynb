{
 "cells": [
  {
   "cell_type": "code",
   "execution_count": 1,
   "id": "2540a3f0-a22e-4e74-8e2a-002119dae512",
   "metadata": {},
   "outputs": [
    {
     "name": "stdin",
     "output_type": "stream",
     "text": [
      "Enter message:  hello this side kamran\n",
      "Enter key (coprime with 26):  7\n"
     ]
    },
    {
     "name": "stdout",
     "output_type": "stream",
     "text": [
      "Encrypted: xczzu dxew wevc sagpan\n",
      "Decrypted: hello this side kamran\n"
     ]
    }
   ],
   "source": [
    "# Extended Euclidean Algorithm to find modular inverse\n",
    "def extended_gcd(a, b):\n",
    "    if b == 0:\n",
    "        return a, 1, 0\n",
    "    gcd, x1, y1 = extended_gcd(b, a % b)\n",
    "    x = y1\n",
    "    y = x1 - (a // b) * y1\n",
    "    return gcd, x, y\n",
    "\n",
    "def mod_inverse(a, m):\n",
    "    gcd, x, _ = extended_gcd(a, m)\n",
    "    if gcd != 1:\n",
    "        return None  # No inverse if gcd != 1\n",
    "    return x % m\n",
    "\n",
    "def encrypt_multiplicative(plaintext, key):\n",
    "    ciphertext = \"\"\n",
    "    for char in plaintext:\n",
    "        if char.isalpha():\n",
    "            shift = 65 if char.isupper() else 97\n",
    "            ciphertext += chr(((ord(char) - shift) * key) % 26 + shift)\n",
    "        else:\n",
    "            ciphertext += char\n",
    "    return ciphertext\n",
    "\n",
    "def decrypt_multiplicative(ciphertext, key):\n",
    "    plaintext = \"\"\n",
    "    inv = mod_inverse(key, 26)\n",
    "    if inv is None:\n",
    "        return \"Invalid key! No inverse exists.\"\n",
    "    for char in ciphertext:\n",
    "        if char.isalpha():\n",
    "            shift = 65 if char.isupper() else 97\n",
    "            plaintext += chr(((ord(char) - shift) * inv) % 26 + shift)\n",
    "        else:\n",
    "            plaintext += char\n",
    "    return plaintext\n",
    "\n",
    "# Example usage\n",
    "text = input(\"Enter message: \")\n",
    "key = int(input(\"Enter key (coprime with 26): \"))\n",
    "\n",
    "cipher = encrypt_multiplicative(text, key)\n",
    "print(\"Encrypted:\", cipher)\n",
    "\n",
    "plain = decrypt_multiplicative(cipher, key)\n",
    "print(\"Decrypted:\", plain)\n"
   ]
  },
  {
   "cell_type": "code",
   "execution_count": null,
   "id": "37ff6dbc-0587-447a-853d-1272849fd54d",
   "metadata": {},
   "outputs": [],
   "source": []
  }
 ],
 "metadata": {
  "kernelspec": {
   "display_name": "Python 3 (ipykernel)",
   "language": "python",
   "name": "python3"
  },
  "language_info": {
   "codemirror_mode": {
    "name": "ipython",
    "version": 3
   },
   "file_extension": ".py",
   "mimetype": "text/x-python",
   "name": "python",
   "nbconvert_exporter": "python",
   "pygments_lexer": "ipython3",
   "version": "3.11.7"
  }
 },
 "nbformat": 4,
 "nbformat_minor": 5
}

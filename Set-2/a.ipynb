{
 "cells": [
  {
   "cell_type": "code",
   "execution_count": 1,
   "id": "14f1b331-8c1d-4557-b281-eec02b6cb81a",
   "metadata": {},
   "outputs": [
    {
     "name": "stdin",
     "output_type": "stream",
     "text": [
      "Enter message:  Capture the English Channel\n",
      "Enter key (0-25):  11\n"
     ]
    },
    {
     "name": "stdout",
     "output_type": "stream",
     "text": [
      "Encrypted: Nlaefcp esp Pyrwtds Nslyypw\n",
      "Decrypted: Capture the English Channel\n"
     ]
    }
   ],
   "source": [
    "def encrypt_caesar(plaintext, key):\n",
    "    ciphertext = \"\"\n",
    "    for char in plaintext:\n",
    "        if char.isalpha():  # Only encrypt letters\n",
    "            shift = 65 if char.isupper() else 97\n",
    "            ciphertext += chr((ord(char) - shift + key) % 26 + shift)\n",
    "        else:\n",
    "            ciphertext += char  # Non-letters stay same\n",
    "    return ciphertext\n",
    "\n",
    "def decrypt_caesar(ciphertext, key):\n",
    "    plaintext = \"\"\n",
    "    for char in ciphertext:\n",
    "        if char.isalpha():\n",
    "            shift = 65 if char.isupper() else 97\n",
    "            plaintext += chr((ord(char) - shift - key) % 26 + shift)\n",
    "        else:\n",
    "            plaintext += char\n",
    "    return plaintext\n",
    "\n",
    "# Example usage\n",
    "text = input(\"Enter message: \")\n",
    "key = int(input(\"Enter key (0-25): \"))\n",
    "\n",
    "cipher = encrypt_caesar(text, key)\n",
    "print(\"Encrypted:\", cipher)\n",
    "\n",
    "plain = decrypt_caesar(cipher, key)\n",
    "print(\"Decrypted:\", plain)\n"
   ]
  },
  {
   "cell_type": "code",
   "execution_count": null,
   "id": "29935828-1285-43b1-b305-66c0d5c6fa3b",
   "metadata": {},
   "outputs": [],
   "source": []
  }
 ],
 "metadata": {
  "kernelspec": {
   "display_name": "Python 3 (ipykernel)",
   "language": "python",
   "name": "python3"
  },
  "language_info": {
   "codemirror_mode": {
    "name": "ipython",
    "version": 3
   },
   "file_extension": ".py",
   "mimetype": "text/x-python",
   "name": "python",
   "nbconvert_exporter": "python",
   "pygments_lexer": "ipython3",
   "version": "3.11.7"
  }
 },
 "nbformat": 4,
 "nbformat_minor": 5
}

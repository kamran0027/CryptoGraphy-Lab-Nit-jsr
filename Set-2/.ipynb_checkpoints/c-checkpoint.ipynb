{
 "cells": [
  {
   "cell_type": "code",
   "execution_count": 5,
   "id": "a0260746-7b68-427f-846e-90e2aa4178e2",
   "metadata": {},
   "outputs": [
    {
     "name": "stdin",
     "output_type": "stream",
     "text": [
      "Enter text:  hello i am kamran\n",
      "Enter key 'a' (must be coprime with 26):  5\n",
      "Enter key 'b':  8\n"
     ]
    },
    {
     "name": "stdout",
     "output_type": "stream",
     "text": [
      "\n",
      "Plaintext : hello i am kamran\n",
      "Encrypted : RCLLA W IQ GIQPIV\n",
      "Decrypted : HELLO I AM KAMRAN\n"
     ]
    }
   ],
   "source": [
    "from math import gcd\n",
    "\n",
    "# Function to compute modular inverse of a under modulo m\n",
    "def mod_inverse(a, m):\n",
    "    for x in range(1, m):\n",
    "        if (a * x) % m == 1:\n",
    "            return x\n",
    "    return None  # No inverse if gcd(a, m) != 1\n",
    "\n",
    "# Encryption function\n",
    "def affine_encrypt(text, a, b):\n",
    "    if gcd(a, 26) != 1:\n",
    "        raise ValueError(\"Key 'a' must be coprime with 26.\")\n",
    "    \n",
    "    result = \"\"\n",
    "    for char in text:\n",
    "        if char.isalpha():  # only encrypt letters\n",
    "            x = ord(char.upper()) - ord('A')\n",
    "            encrypted = (a * x + b) % 26\n",
    "            result += chr(encrypted + ord('A'))\n",
    "        else:\n",
    "            result += char\n",
    "    return result\n",
    "\n",
    "# Decryption function\n",
    "def affine_decrypt(cipher, a, b):\n",
    "    if gcd(a, 26) != 1:\n",
    "        raise ValueError(\"Key 'a' must be coprime with 26.\")\n",
    "    \n",
    "    a_inv = mod_inverse(a, 26)\n",
    "    result = \"\"\n",
    "    for char in cipher:\n",
    "        if char.isalpha():\n",
    "            y = ord(char.upper()) - ord('A')\n",
    "            decrypted = (a_inv * (y - b)) % 26\n",
    "            result += chr(decrypted + ord('A'))\n",
    "        else:\n",
    "            result += char\n",
    "    return result\n",
    "\n",
    "\n",
    "# ---------------- Main Program ----------------\n",
    "if __name__ == \"__main__\":\n",
    "    plaintext = input(\"Enter text: \")\n",
    "    a = int(input(\"Enter key 'a' (must be coprime with 26): \"))\n",
    "    b = int(input(\"Enter key 'b': \"))\n",
    "\n",
    "    encrypted = affine_encrypt(plaintext, a, b)\n",
    "    decrypted = affine_decrypt(encrypted, a, b)\n",
    "\n",
    "    print(\"\\nPlaintext :\", plaintext)\n",
    "    print(\"Encrypted :\", encrypted)\n",
    "    print(\"Decrypted :\", decrypted)\n"
   ]
  },
  {
   "cell_type": "code",
   "execution_count": null,
   "id": "e5d4cbae-f25e-44c0-bbe0-fd0475d84368",
   "metadata": {},
   "outputs": [],
   "source": []
  }
 ],
 "metadata": {
  "kernelspec": {
   "display_name": "Python 3 (ipykernel)",
   "language": "python",
   "name": "python3"
  },
  "language_info": {
   "codemirror_mode": {
    "name": "ipython",
    "version": 3
   },
   "file_extension": ".py",
   "mimetype": "text/x-python",
   "name": "python",
   "nbconvert_exporter": "python",
   "pygments_lexer": "ipython3",
   "version": "3.11.7"
  }
 },
 "nbformat": 4,
 "nbformat_minor": 5
}

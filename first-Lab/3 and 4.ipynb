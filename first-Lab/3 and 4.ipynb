{
 "cells": [
  {
   "cell_type": "code",
   "execution_count": 1,
   "id": "889da225-dd9f-4f72-9edc-caf37e20c695",
   "metadata": {},
   "outputs": [],
   "source": [
    "# nested dict\n",
    "students = {\n",
    "    \"Alice\":   {\"maths\": 90, \"science\": 85, \"english\": 88},\n",
    "    \"Bob\":     {\"maths\": 70, \"science\": 80, \"english\": 75},\n",
    "    \"Charlie\": {\"maths\": 85, \"science\": 95, \"english\": 78}\n",
    "}"
   ]
  },
  {
   "cell_type": "code",
   "execution_count": 2,
   "id": "ad2d620b-23f2-45cc-bc79-0c32c5630bb1",
   "metadata": {},
   "outputs": [
    {
     "name": "stdout",
     "output_type": "stream",
     "text": [
      "Average marks in each subject: {'maths': 81.66666666666667, 'science': 86.66666666666667, 'english': 80.33333333333333}\n"
     ]
    }
   ],
   "source": [
    "\n",
    "# find average marks per subject\n",
    "subjects = students[\"Alice\"].keys()   # get subject names\n",
    "avg = {}\n",
    "\n",
    "for sub in subjects:\n",
    "    total = sum(students[name][sub] for name in students)   # add marks from all students\n",
    "    avg[sub] = total / len(students)\n",
    "\n",
    "print(\"Average marks in each subject:\", avg)\n"
   ]
  },
  {
   "cell_type": "code",
   "execution_count": 3,
   "id": "e4f24df4-7a32-4864-bbf5-aefc081a524d",
   "metadata": {},
   "outputs": [
    {
     "name": "stdout",
     "output_type": "stream",
     "text": [
      "Dictionary: {'a': 1, 'b': 2, 'c': 3}\n",
      "Value of a: 1\n",
      "True\n",
      "Keys: dict_keys(['b', 'c', 'd'])\n",
      "Values: dict_values([20, 3, 40])\n",
      "Items: dict_items([('b', 20), ('c', 3), ('d', 40)])\n",
      "Popped: 20\n",
      "c -> 3\n",
      "d -> 40\n",
      "After clear: {}\n"
     ]
    }
   ],
   "source": [
    "d = {\"a\": 1, \"b\": 2, \"c\": 3}\n",
    "\n",
    "print(\"Dictionary:\", d)\n",
    "\n",
    "# access\n",
    "print(\"Value of a:\", d[\"a\"])\n",
    "\n",
    "# update\n",
    "d[\"b\"] = 20\n",
    "\n",
    "# add new key\n",
    "d[\"d\"] = 40\n",
    "\n",
    "# delete a key\n",
    "del d[\"a\"]\n",
    "\n",
    "# check membership\n",
    "print(\"c\" in d)   # True\n",
    "\n",
    "# keys, values, items\n",
    "print(\"Keys:\", d.keys())\n",
    "print(\"Values:\", d.values())\n",
    "print(\"Items:\", d.items())\n",
    "\n",
    "# pop\n",
    "print(\"Popped:\", d.pop(\"b\"))\n",
    "\n",
    "# iterate\n",
    "for k, v in d.items():\n",
    "    print(k, \"->\", v)\n",
    "\n",
    "# clear\n",
    "d.clear()\n",
    "print(\"After clear:\", d)\n"
   ]
  },
  {
   "cell_type": "code",
   "execution_count": null,
   "id": "db0788a0-a819-4e9e-a620-343f650a0512",
   "metadata": {},
   "outputs": [],
   "source": []
  }
 ],
 "metadata": {
  "kernelspec": {
   "display_name": "Python 3 (ipykernel)",
   "language": "python",
   "name": "python3"
  },
  "language_info": {
   "codemirror_mode": {
    "name": "ipython",
    "version": 3
   },
   "file_extension": ".py",
   "mimetype": "text/x-python",
   "name": "python",
   "nbconvert_exporter": "python",
   "pygments_lexer": "ipython3",
   "version": "3.11.7"
  }
 },
 "nbformat": 4,
 "nbformat_minor": 5
}

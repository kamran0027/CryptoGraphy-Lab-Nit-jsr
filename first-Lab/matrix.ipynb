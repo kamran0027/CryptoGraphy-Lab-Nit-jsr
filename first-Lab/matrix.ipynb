{
 "cells": [
  {
   "cell_type": "code",
   "execution_count": 4,
   "id": "1b6e1da8-052a-4317-b484-d7121a937055",
   "metadata": {},
   "outputs": [
    {
     "name": "stdin",
     "output_type": "stream",
     "text": [
      "Enter number of rows:  3\n",
      "Enter number of columns:  3\n"
     ]
    },
    {
     "name": "stdout",
     "output_type": "stream",
     "text": [
      "\n",
      "Enter elements of Matrix A matrix (row by row):\n"
     ]
    },
    {
     "name": "stdin",
     "output_type": "stream",
     "text": [
      "Row 1:  1 2 3\n",
      "Row 2:  4 5 6\n",
      "Row 3:  7 5 6\n"
     ]
    },
    {
     "name": "stdout",
     "output_type": "stream",
     "text": [
      "\n",
      "Enter elements of Matrix B matrix (row by row):\n"
     ]
    },
    {
     "name": "stdin",
     "output_type": "stream",
     "text": [
      "Row 1:  4 6 2\n",
      "Row 2:  2 7 6\n",
      "Row 3:  3 4 6\n"
     ]
    },
    {
     "name": "stdout",
     "output_type": "stream",
     "text": [
      "\n",
      "Matrix A:\n",
      "[1, 2, 3]\n",
      "[4, 5, 6]\n",
      "[7, 5, 6]\n",
      "\n",
      "Matrix B:\n",
      "[4, 6, 2]\n",
      "[2, 7, 6]\n",
      "[3, 4, 6]\n",
      "\n",
      "Addition (A + B):\n",
      "[5, 8, 5]\n",
      "[6, 12, 12]\n",
      "[10, 9, 12]\n",
      "\n",
      "Subtraction (A - B):\n",
      "[-3, -4, 1]\n",
      "[2, -2, 0]\n",
      "[4, 1, 0]\n",
      "\n",
      "Multiplication (A[i][j] * B[i][j]):\n",
      "[4, 12, 6]\n",
      "[8, 35, 36]\n",
      "[21, 20, 36]\n"
     ]
    }
   ],
   "source": [
    "# Function for matrix addition\n",
    "def matrix_add(matA, matB):\n",
    "    return [[matA[i][j] + matB[i][j] for j in range(len(matA[0]))] for i in range(len(matA))]\n",
    "\n",
    "# Function for matrix subtraction\n",
    "def matrix_sub(matA, matB):\n",
    "    return [[matA[i][j] - matB[i][j] for j in range(len(matA[0]))] for i in range(len(matA))]\n",
    "\n",
    "# Function for element-wise matrix multiplication\n",
    "def matrix_mul(matA, matB):\n",
    "    return [[matA[i][j] * matB[i][j] for j in range(len(matA[0]))] for i in range(len(matA))]\n",
    "\n",
    "# Function to take matrix input\n",
    "def input_matrix(rows, cols, name):\n",
    "    print(f\"\\nEnter elements of {name} matrix (row by row):\")\n",
    "    matrix = []\n",
    "    for i in range(rows):\n",
    "        row = list(map(int, input(f\"Row {i+1}: \").split()))\n",
    "        while len(row) != cols:\n",
    "            print(f\"⚠️ Please enter exactly {cols} elements\")\n",
    "            row = list(map(int, input(f\"Row {i+1}: \").split()))\n",
    "        matrix.append(row)\n",
    "    return matrix\n",
    "\n",
    "\n",
    "# -------- Main Program --------\n",
    "# Take size of matrix\n",
    "rows = int(input(\"Enter number of rows: \"))\n",
    "cols = int(input(\"Enter number of columns: \"))\n",
    "\n",
    "# Take input for both matrices\n",
    "matA = input_matrix(rows, cols, \"Matrix A\")\n",
    "matB = input_matrix(rows, cols, \"Matrix B\")\n",
    "\n",
    "# Perform operations\n",
    "add_result = matrix_add(matA, matB)\n",
    "sub_result = matrix_sub(matA, matB)\n",
    "mul_result = matrix_mul(matA, matB)\n",
    "\n",
    "# Print results\n",
    "print(\"\\nMatrix A:\")\n",
    "for row in matA:\n",
    "    print(row)\n",
    "\n",
    "print(\"\\nMatrix B:\")\n",
    "for row in matB:\n",
    "    print(row)\n",
    "\n",
    "print(\"\\nAddition (A + B):\")\n",
    "for row in add_result:\n",
    "    print(row)\n",
    "\n",
    "print(\"\\nSubtraction (A - B):\")\n",
    "for row in sub_result:\n",
    "    print(row)\n",
    "\n",
    "print(\"\\nMultiplication (A[i][j] * B[i][j]):\")\n",
    "for row in mul_result:\n",
    "    print(row)\n"
   ]
  },
  {
   "cell_type": "code",
   "execution_count": null,
   "id": "3e523b4d-74b2-460c-82d9-83300a1b3d49",
   "metadata": {},
   "outputs": [],
   "source": []
  }
 ],
 "metadata": {
  "kernelspec": {
   "display_name": "Python 3 (ipykernel)",
   "language": "python",
   "name": "python3"
  },
  "language_info": {
   "codemirror_mode": {
    "name": "ipython",
    "version": 3
   },
   "file_extension": ".py",
   "mimetype": "text/x-python",
   "name": "python",
   "nbconvert_exporter": "python",
   "pygments_lexer": "ipython3",
   "version": "3.11.7"
  }
 },
 "nbformat": 4,
 "nbformat_minor": 5
}

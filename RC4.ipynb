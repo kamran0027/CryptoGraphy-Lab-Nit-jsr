{
 "cells": [
  {
   "cell_type": "code",
   "execution_count": 12,
   "id": "024257e8-3278-4073-8922-e7324c1758d9",
   "metadata": {},
   "outputs": [
    {
     "name": "stdout",
     "output_type": "stream",
     "text": [
      "Encrypted: 5cdd502bb05e3ef0a7271c\n",
      "Decrypted: Hello, RC4!\n"
     ]
    }
   ],
   "source": [
    "def ksa(key):\n",
    "    key_length = len(key)\n",
    "    S = list(range(256))\n",
    "    j = 0\n",
    "    for i in range(256):\n",
    "        j = (j + S[i] + key[i % key_length]) % 256\n",
    "        S[i], S[j] = S[j], S[i]\n",
    "    return S\n",
    "def prga(S, length):\n",
    "    i = j = 0\n",
    "    keystream = []\n",
    "    for _ in range(length):\n",
    "        i = (i + 1) % 256\n",
    "        j = (j + S[i]) % 256\n",
    "        S[i], S[j] = S[j], S[i]\n",
    "        k = S[(S[i] + S[j]) % 256]\n",
    "        keystream.append(k)\n",
    "    return keystream\n",
    "def rc4_encrypt(key, plaintext):\n",
    "    S = ksa(key)\n",
    "    keystream = prga(S, len(plaintext))\n",
    "    \n",
    "    encrypted = bytes([keystream[i] ^ plaintext[i] for i in range(len(plaintext))])\n",
    "    return encrypted\n",
    "def rc4_decrypt(key, ciphertext):\n",
    "    return rc4_encrypt(key, ciphertext)  # RC4 decryption is the same as encryption\n",
    " # Example usage\n",
    "key = b\"SecretKey\"  # Key should be bytes\n",
    "plaintext = b\"Hello, RC4!\"\n",
    "# Encrypt the data\n",
    "encrypted = rc4_encrypt(key, plaintext)\n",
    "print(\"Encrypted:\", encrypted.hex())\n",
    " # Decrypt the data\n",
    "decrypted = rc4_decrypt(key, encrypted)\n",
    "print(\"Decrypted:\", decrypted.decode('utf-8'))"
   ]
  },
  {
   "cell_type": "code",
   "execution_count": null,
   "id": "3741bf17-fb88-4a11-bb79-52f76dedc5be",
   "metadata": {},
   "outputs": [],
   "source": []
  }
 ],
 "metadata": {
  "kernelspec": {
   "display_name": "Python 3 (ipykernel)",
   "language": "python",
   "name": "python3"
  },
  "language_info": {
   "codemirror_mode": {
    "name": "ipython",
    "version": 3
   },
   "file_extension": ".py",
   "mimetype": "text/x-python",
   "name": "python",
   "nbconvert_exporter": "python",
   "pygments_lexer": "ipython3",
   "version": "3.11.7"
  }
 },
 "nbformat": 4,
 "nbformat_minor": 5
}

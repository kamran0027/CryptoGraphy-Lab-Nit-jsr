{
 "cells": [
  {
   "cell_type": "code",
   "execution_count": 1,
   "id": "002f039f-f70c-4a8e-9ba3-712461faacb8",
   "metadata": {},
   "outputs": [
    {
     "name": "stdout",
     "output_type": "stream",
     "text": [
      "Efficient GF multiply: 0b110\n"
     ]
    }
   ],
   "source": [
    "def gf_mul(a, b, m):\n",
    "    \"\"\" Efficient polynomial multiplication in GF(2^p). \"\"\"\n",
    "    res = 0\n",
    "    while b:\n",
    "        if b & 1:\n",
    "            res ^= a\n",
    "        b >>= 1\n",
    "        a <<= 1\n",
    "        if a.bit_length() >= m.bit_length():\n",
    "            a ^= m\n",
    "    return res\n",
    "\n",
    "p1 = 0b1011   # x^3 + x + 1\n",
    "p2 = 0b1101   # x^3 + x^2 + 1\n",
    "m  = 0b10011  # modulus\n",
    "print(\"Efficient GF multiply:\", bin(gf_mul(p1, p2, m)))"
   ]
  },
  {
   "cell_type": "code",
   "execution_count": null,
   "id": "bbb93d95-6c57-46e1-ac48-86c97c5e108e",
   "metadata": {},
   "outputs": [],
   "source": []
  }
 ],
 "metadata": {
  "kernelspec": {
   "display_name": "Python 3 (ipykernel)",
   "language": "python",
   "name": "python3"
  },
  "language_info": {
   "codemirror_mode": {
    "name": "ipython",
    "version": 3
   },
   "file_extension": ".py",
   "mimetype": "text/x-python",
   "name": "python",
   "nbconvert_exporter": "python",
   "pygments_lexer": "ipython3",
   "version": "3.11.7"
  }
 },
 "nbformat": 4,
 "nbformat_minor": 5
}

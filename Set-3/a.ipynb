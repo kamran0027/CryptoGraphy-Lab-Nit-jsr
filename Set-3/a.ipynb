{
 "cells": [
  {
   "cell_type": "code",
   "execution_count": 1,
   "id": "d29badef-515e-4905-9822-647835287bae",
   "metadata": {},
   "outputs": [
    {
     "name": "stdout",
     "output_type": "stream",
     "text": [
      "0b110\n"
     ]
    }
   ],
   "source": [
    "def poly_add(a, b):\n",
    "    return a ^ b   # XOR = addition mod 2\n",
    "\n",
    "p1 = 0b1011   # x^3 + x + 1\n",
    "p2 = 0b1101   # x^3 + x^2 + 1\n",
    "print(bin(poly_add(p1, p2)))  # Result: 0b1110 (x^3 + x^2 + x)"
   ]
  },
  {
   "cell_type": "code",
   "execution_count": null,
   "id": "3890bd3d-b8d0-4a35-9f73-5a38a26e2a7d",
   "metadata": {},
   "outputs": [],
   "source": []
  }
 ],
 "metadata": {
  "kernelspec": {
   "display_name": "Python 3 (ipykernel)",
   "language": "python",
   "name": "python3"
  },
  "language_info": {
   "codemirror_mode": {
    "name": "ipython",
    "version": 3
   },
   "file_extension": ".py",
   "mimetype": "text/x-python",
   "name": "python",
   "nbconvert_exporter": "python",
   "pygments_lexer": "ipython3",
   "version": "3.11.7"
  }
 },
 "nbformat": 4,
 "nbformat_minor": 5
}

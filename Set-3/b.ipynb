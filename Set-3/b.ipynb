{
 "cells": [
  {
   "cell_type": "code",
   "execution_count": 1,
   "id": "3d5f59c9-6a42-4a8f-b828-4fd9729db20d",
   "metadata": {},
   "outputs": [
    {
     "name": "stdout",
     "output_type": "stream",
     "text": [
      "Product: 0b1111111\n",
      "Modulo result: 0b110\n"
     ]
    }
   ],
   "source": [
    "def poly_mul(a, b):\n",
    "    res = 0\n",
    "    while b:\n",
    "        if b & 1:  # if lowest bit of b is set\n",
    "            res ^= a\n",
    "        a <<= 1\n",
    "        b >>= 1\n",
    "    return res\n",
    "\n",
    "def poly_mod(a, m):\n",
    "    deg_m = m.bit_length() - 1\n",
    "    while a.bit_length() - 1 >= deg_m:\n",
    "        shift = a.bit_length() - m.bit_length()\n",
    "        a ^= m << shift\n",
    "    return a\n",
    "\n",
    "# Example with irreducible polynomial x^4 + x + 1 (0b10011)\n",
    "p1 = 0b1011   # x^3 + x + 1\n",
    "p2 = 0b1101   # x^3 + x^2 + 1\n",
    "m  = 0b10011  # modulus\n",
    "product = poly_mul(p1, p2)\n",
    "print(\"Product:\", bin(product))\n",
    "print(\"Modulo result:\", bin(poly_mod(product, m)))"
   ]
  },
  {
   "cell_type": "code",
   "execution_count": null,
   "id": "5d2ce2ab-4250-49b4-9509-ea1c8cfb79ad",
   "metadata": {},
   "outputs": [],
   "source": []
  }
 ],
 "metadata": {
  "kernelspec": {
   "display_name": "Python 3 (ipykernel)",
   "language": "python",
   "name": "python3"
  },
  "language_info": {
   "codemirror_mode": {
    "name": "ipython",
    "version": 3
   },
   "file_extension": ".py",
   "mimetype": "text/x-python",
   "name": "python",
   "nbconvert_exporter": "python",
   "pygments_lexer": "ipython3",
   "version": "3.11.7"
  }
 },
 "nbformat": 4,
 "nbformat_minor": 5
}

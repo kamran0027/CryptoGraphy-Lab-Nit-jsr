{
 "cells": [
  {
   "cell_type": "code",
   "execution_count": 1,
   "id": "bf21aac5-91bb-456f-bcf6-2fbd3d920461",
   "metadata": {},
   "outputs": [],
   "source": [
    "def extended_gcd(a, b):\n",
    "    if b == 0:\n",
    "        return a, 1, 0  # gcd, x, y\n",
    "    gcd, x1, y1 = extended_gcd(b, a % b)\n",
    "    x = y1\n",
    "    y = x1 - (a // b) * y1\n",
    "    return gcd, x, y"
   ]
  },
  {
   "cell_type": "code",
   "execution_count": 2,
   "id": "e3ca4907-9d4b-48bb-ad71-d68b7ba897ae",
   "metadata": {},
   "outputs": [
    {
     "name": "stdin",
     "output_type": "stream",
     "text": [
      "Enter first number:  45\n",
      "Enter second number:  86\n"
     ]
    },
    {
     "name": "stdout",
     "output_type": "stream",
     "text": [
      "GCD(45, 86) = 1\n",
      "Coefficients: x = -21, y = 11\n",
      "Verification: 45*-21 + 86*11 = 1\n"
     ]
    }
   ],
   "source": [
    "# Example usage\n",
    "a = int(input(\"Enter first number: \"))\n",
    "b = int(input(\"Enter second number: \"))\n",
    "\n",
    "gcd, x, y = extended_gcd(a, b)\n",
    "print(f\"GCD({a}, {b}) = {gcd}\")\n",
    "print(f\"Coefficients: x = {x}, y = {y}\")\n",
    "print(f\"Verification: {a}*{x} + {b}*{y} = {gcd}\")"
   ]
  },
  {
   "cell_type": "code",
   "execution_count": null,
   "id": "0b159ead-7479-4a27-8a08-bc2171bafecf",
   "metadata": {},
   "outputs": [],
   "source": []
  }
 ],
 "metadata": {
  "kernelspec": {
   "display_name": "Python 3 (ipykernel)",
   "language": "python",
   "name": "python3"
  },
  "language_info": {
   "codemirror_mode": {
    "name": "ipython",
    "version": 3
   },
   "file_extension": ".py",
   "mimetype": "text/x-python",
   "name": "python",
   "nbconvert_exporter": "python",
   "pygments_lexer": "ipython3",
   "version": "3.11.7"
  }
 },
 "nbformat": 4,
 "nbformat_minor": 5
}

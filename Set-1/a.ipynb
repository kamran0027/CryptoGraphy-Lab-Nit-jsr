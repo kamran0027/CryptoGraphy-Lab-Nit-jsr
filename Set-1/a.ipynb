{
 "cells": [
  {
   "cell_type": "code",
   "execution_count": 2,
   "id": "ec6ec1c0-c8d3-4e17-a445-a68e99abdd7f",
   "metadata": {},
   "outputs": [],
   "source": [
    "#function for finding the gcd\n",
    "def gcd(a,b):\n",
    "    if b==0:\n",
    "        return a;\n",
    "    return gcd(b,a%b)\n"
   ]
  },
  {
   "cell_type": "code",
   "execution_count": 3,
   "id": "c9124483-0426-4ea2-8a2a-c13858774745",
   "metadata": {},
   "outputs": [
    {
     "name": "stdin",
     "output_type": "stream",
     "text": [
      "enter  the value 1 45\n",
      "enter  the value 2 5\n"
     ]
    },
    {
     "name": "stdout",
     "output_type": "stream",
     "text": [
      "gcd 5\n"
     ]
    }
   ],
   "source": [
    "\n",
    "a=int(input(\"enter  the value 1\"))\n",
    "b=int(input(\"enter  the value 2\"))\n",
    "\n",
    "print(\"gcd\",gcd(a,b))"
   ]
  },
  {
   "cell_type": "code",
   "execution_count": null,
   "id": "3e75ce35-c77f-44b4-b894-7fdead0a05eb",
   "metadata": {},
   "outputs": [],
   "source": []
  }
 ],
 "metadata": {
  "kernelspec": {
   "display_name": "Python 3 (ipykernel)",
   "language": "python",
   "name": "python3"
  },
  "language_info": {
   "codemirror_mode": {
    "name": "ipython",
    "version": 3
   },
   "file_extension": ".py",
   "mimetype": "text/x-python",
   "name": "python",
   "nbconvert_exporter": "python",
   "pygments_lexer": "ipython3",
   "version": "3.11.7"
  }
 },
 "nbformat": 4,
 "nbformat_minor": 5
}

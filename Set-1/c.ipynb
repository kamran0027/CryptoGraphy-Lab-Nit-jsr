{
 "cells": [
  {
   "cell_type": "code",
   "execution_count": 1,
   "id": "d60241bc-d01f-4b4c-905f-3616b0d4da5e",
   "metadata": {},
   "outputs": [
    {
     "name": "stdin",
     "output_type": "stream",
     "text": [
      "Enter number a:  78\n",
      "Enter prime p:  11\n"
     ]
    },
    {
     "name": "stdout",
     "output_type": "stream",
     "text": [
      "The inverse of 78 in GF(11) is 1\n",
      "Verification: (78 * 1) % 11 = 1\n"
     ]
    }
   ],
   "source": [
    "def extended_gcd(a, b):\n",
    "    if b == 0:\n",
    "        return a, 1, 0  # gcd, x, y\n",
    "    gcd, x1, y1 = extended_gcd(b, a % b)\n",
    "    x = y1\n",
    "    y = x1 - (a // b) * y1\n",
    "    return gcd, x, y\n",
    "\n",
    "def mod_inverse(a, p):\n",
    "    gcd, x, _ = extended_gcd(a, p)\n",
    "    if gcd != 1:\n",
    "        return None  # Inverse doesn't exist if gcd != 1\n",
    "    else:\n",
    "        return x % p  # Ensure positive result\n",
    "\n",
    "# Example usage\n",
    "a = int(input(\"Enter number a: \"))\n",
    "p = int(input(\"Enter prime p: \"))\n",
    "\n",
    "inv = mod_inverse(a, p)\n",
    "if inv:\n",
    "    print(f\"The inverse of {a} in GF({p}) is {inv}\")\n",
    "    print(f\"Verification: ({a} * {inv}) % {p} = {(a*inv)%p}\")\n",
    "else:\n",
    "    print(\"Inverse does not exist.\")\n"
   ]
  },
  {
   "cell_type": "code",
   "execution_count": null,
   "id": "ddca3666-377f-4cbf-ba37-752d82f0a22f",
   "metadata": {},
   "outputs": [],
   "source": []
  }
 ],
 "metadata": {
  "kernelspec": {
   "display_name": "Python 3 (ipykernel)",
   "language": "python",
   "name": "python3"
  },
  "language_info": {
   "codemirror_mode": {
    "name": "ipython",
    "version": 3
   },
   "file_extension": ".py",
   "mimetype": "text/x-python",
   "name": "python",
   "nbconvert_exporter": "python",
   "pygments_lexer": "ipython3",
   "version": "3.11.7"
  }
 },
 "nbformat": 4,
 "nbformat_minor": 5
}

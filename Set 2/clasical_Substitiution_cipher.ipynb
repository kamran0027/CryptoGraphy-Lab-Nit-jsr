{
 "cells": [
  {
   "cell_type": "code",
   "execution_count": 32,
   "id": "19424ac1-3ab2-4fa6-bd16-2a4344084498",
   "metadata": {},
   "outputs": [],
   "source": [
    "#addative (ceasar) cipher\n",
    "def encryption(p,k):\n",
    "    c_text=\"\"\n",
    "    for i in range(len(p)):\n",
    "        char=p[i]\n",
    "        if char>='A' and char<='Z':\n",
    "            c_text += chr((ord(char) + k-65) % 26 + 65)\n",
    "        else:\n",
    "            c_text += chr((ord(char) + k-97) % 26 + 97)\n",
    "    return c_text\n",
    "def decryption(c,k):\n",
    "    p_text=\"\"\n",
    "    for i in range(len(c)):\n",
    "        char=c[i]\n",
    "        if char>='A' and char<='Z':\n",
    "            p_text+=chr((ord(char)-k-65)%26 +65)\n",
    "        else:\n",
    "            p_text+=chr((ord(char)-k-97)%26 +97)\n",
    "    return p_text\n",
    "    "
   ]
  },
  {
   "cell_type": "code",
   "execution_count": 33,
   "id": "a168a69b-5870-457a-949e-fb1d6efcd661",
   "metadata": {
    "scrolled": true
   },
   "outputs": [
    {
     "name": "stdout",
     "output_type": "stream",
     "text": [
      "plain text : kaMran\n",
      "cipher text :  ndPudq\n",
      "executing decryption**********\n",
      "plain text : kaMran\n"
     ]
    }
   ],
   "source": [
    "txt=\"kaMran\"\n",
    "k=3\n",
    "print(\"plain text :\",txt)\n",
    "print(\"cipher text : \",encryption(txt,k))\n",
    "print(\"executing decryption**********\")\n",
    "c_text=encryption(txt,k)\n",
    "print(\"plain text :\", decryption(c_text,k))"
   ]
  },
  {
   "cell_type": "code",
   "execution_count": null,
   "id": "221a2566-2cc5-41bd-8ef0-cd6f824114a4",
   "metadata": {},
   "outputs": [],
   "source": []
  }
 ],
 "metadata": {
  "kernelspec": {
   "display_name": "Python 3 (ipykernel)",
   "language": "python",
   "name": "python3"
  },
  "language_info": {
   "codemirror_mode": {
    "name": "ipython",
    "version": 3
   },
   "file_extension": ".py",
   "mimetype": "text/x-python",
   "name": "python",
   "nbconvert_exporter": "python",
   "pygments_lexer": "ipython3",
   "version": "3.11.7"
  }
 },
 "nbformat": 4,
 "nbformat_minor": 5
}

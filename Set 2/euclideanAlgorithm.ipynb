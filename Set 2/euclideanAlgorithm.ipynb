{
 "cells": [
  {
   "cell_type": "code",
   "execution_count": 18,
   "id": "ec6ec1c0-c8d3-4e17-a445-a68e99abdd7f",
   "metadata": {},
   "outputs": [],
   "source": [
    "#function for finding the gcd\n",
    "def gcd(a,b):\n",
    "    if b==0:\n",
    "        return a;\n",
    "    return gcd(b,a%b)\n"
   ]
  },
  {
   "cell_type": "code",
   "execution_count": 19,
   "id": "c9124483-0426-4ea2-8a2a-c13858774745",
   "metadata": {},
   "outputs": [
    {
     "name": "stdout",
     "output_type": "stream",
     "text": [
      "program start from here\n",
      "gcd 5\n"
     ]
    }
   ],
   "source": [
    "print(\"program start from here\");\n",
    "a=5;\n",
    "b=45;\n",
    "\n",
    "print(\"gcd\",gcd(a,b))"
   ]
  },
  {
   "cell_type": "code",
   "execution_count": 21,
   "id": "d4eea8a2-2081-4d9b-a9be-782fe5546c61",
   "metadata": {},
   "outputs": [],
   "source": [
    "#Extended gcd \n",
    "def gcdExtended(a, b, x, y): \n",
    "    if a == 0: \n",
    "        x[0] = 0\n",
    "        y[0] = 1\n",
    "        return b \n",
    "\n",
    "    x1, y1 = [0], [0]\n",
    "    gcd = gcdExtended(b % a, a, x1, y1)\n",
    "\n",
    "    # Update x and y using results of \n",
    "    x[0] = y1[0] - (b // a) * x1[0] \n",
    "    y[0] = x1[0] \n",
    "    return gcd\n",
    "\n",
    "def findGCD(a, b):\n",
    "    x, y = [1], [1]\n",
    "    return gcdExtended(a, b, x, y)"
   ]
  },
  {
   "cell_type": "code",
   "execution_count": 23,
   "id": "e412d4fb-6860-435f-9758-8b683dd1186e",
   "metadata": {},
   "outputs": [
    {
     "name": "stdout",
     "output_type": "stream",
     "text": [
      "gcd of  35  and  15  =  5\n"
     ]
    }
   ],
   "source": [
    "# Main function\n",
    "def main():\n",
    "    a, b = 35, 15\n",
    "    g = findGCD(a, b)\n",
    "    print(\"gcd of \",a,\" and \",b,\" = \", g)\n",
    "\n",
    "if __name__ == \"__main__\":\n",
    "    main()"
   ]
  },
  {
   "cell_type": "code",
   "execution_count": null,
   "id": "3e75ce35-c77f-44b4-b894-7fdead0a05eb",
   "metadata": {},
   "outputs": [],
   "source": []
  }
 ],
 "metadata": {
  "kernelspec": {
   "display_name": "Python 3 (ipykernel)",
   "language": "python",
   "name": "python3"
  },
  "language_info": {
   "codemirror_mode": {
    "name": "ipython",
    "version": 3
   },
   "file_extension": ".py",
   "mimetype": "text/x-python",
   "name": "python",
   "nbconvert_exporter": "python",
   "pygments_lexer": "ipython3",
   "version": "3.11.7"
  }
 },
 "nbformat": 4,
 "nbformat_minor": 5
}

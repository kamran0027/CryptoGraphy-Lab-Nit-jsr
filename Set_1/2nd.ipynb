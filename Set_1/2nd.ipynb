{
 "cells": [
  {
   "cell_type": "code",
   "execution_count": 1,
   "id": "47e4064c-b5f1-4218-80fb-48a76378eab9",
   "metadata": {},
   "outputs": [
    {
     "name": "stdout",
     "output_type": "stream",
     "text": [
      "Second-largest (by sum): (10,)\n"
     ]
    }
   ],
   "source": [
    "\n",
    "t = [(1, 2, 3), (4, 5), (10,), (3, 3, 3), (7, 8)]\n",
    "\n",
    "s = sorted(t, key=sum, reverse=True)\n",
    "\n",
    "print(\"Second-largest (by sum):\", s[1])\n"
   ]
  },
  {
   "cell_type": "code",
   "execution_count": null,
   "id": "43218636-c780-455f-9574-39399f3f017e",
   "metadata": {},
   "outputs": [],
   "source": []
  }
 ],
 "metadata": {
  "kernelspec": {
   "display_name": "Python 3 (ipykernel)",
   "language": "python",
   "name": "python3"
  },
  "language_info": {
   "codemirror_mode": {
    "name": "ipython",
    "version": 3
   },
   "file_extension": ".py",
   "mimetype": "text/x-python",
   "name": "python",
   "nbconvert_exporter": "python",
   "pygments_lexer": "ipython3",
   "version": "3.11.7"
  }
 },
 "nbformat": 4,
 "nbformat_minor": 5
}

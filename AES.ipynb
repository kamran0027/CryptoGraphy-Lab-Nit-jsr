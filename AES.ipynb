{
 "cells": [
  {
   "cell_type": "code",
   "execution_count": 6,
   "id": "9afcd3b3-35f8-4889-9e86-a1b3043a7c2d",
   "metadata": {},
   "outputs": [
    {
     "name": "stdout",
     "output_type": "stream",
     "text": [
      "Collecting pycryptodome\n",
      "  Downloading pycryptodome-3.23.0-cp37-abi3-win_amd64.whl.metadata (3.5 kB)\n",
      "Downloading pycryptodome-3.23.0-cp37-abi3-win_amd64.whl (1.8 MB)\n",
      "   ---------------------------------------- 0.0/1.8 MB ? eta -:--:--\n",
      "   ---------------------------------------- 0.0/1.8 MB ? eta -:--:--\n",
      "   - -------------------------------------- 0.1/1.8 MB 991.0 kB/s eta 0:00:02\n",
      "   --------- ------------------------------ 0.4/1.8 MB 3.8 MB/s eta 0:00:01\n",
      "   ------------------------ --------------- 1.1/1.8 MB 7.7 MB/s eta 0:00:01\n",
      "   ----------------------------------- ---- 1.6/1.8 MB 7.9 MB/s eta 0:00:01\n",
      "   ---------------------------------------- 1.8/1.8 MB 7.6 MB/s eta 0:00:00\n",
      "Installing collected packages: pycryptodome\n",
      "Successfully installed pycryptodome-3.23.0\n"
     ]
    }
   ],
   "source": [
    "!pip install pycryptodome\n"
   ]
  },
  {
   "cell_type": "code",
   "execution_count": 7,
   "id": "ed2e3ba1-1caa-4b20-804a-52d65682ae8f",
   "metadata": {},
   "outputs": [
    {
     "name": "stdout",
     "output_type": "stream",
     "text": [
      "Encrypted: 26890352de7e6e782fe0fb807ae932b93514624f70a784ee42d9d43da2539b25\n",
      "Decrypted: Hello, AES!\n"
     ]
    }
   ],
   "source": [
    "from Crypto.Cipher import AES\n",
    "from Crypto.Random import get_random_bytes\n",
    "def pad(data):\n",
    "    block_size = AES.block_size\n",
    "    padding = block_size - (len(data) % block_size)\n",
    "    return data + bytes([padding] * padding)\n",
    "def unpad(data):\n",
    "    padding = data[-1]\n",
    "    return data[:-padding]\n",
    "def aes_encrypt(key, data):\n",
    "    cipher = AES.new(key, AES.MODE_CBC)\n",
    "    padded_data = pad(data)\n",
    "    encrypted_data = cipher.encrypt(padded_data)\n",
    "    return cipher.iv + encrypted_data\n",
    "def aes_decrypt(key, encrypted_data):\n",
    "    iv = encrypted_data[:AES.block_size]\n",
    "    data = encrypted_data[AES.block_size:]\n",
    "    \n",
    "    cipher = AES.new(key, AES.MODE_CBC, iv=iv)\n",
    "    decrypted_data = cipher.decrypt(data)\n",
    "    unpadded_data = unpad(decrypted_data)\n",
    "    return unpadded_data\n",
    " # Generate a random AES key (16, 24, or 32 bytes)\n",
    "key = get_random_bytes(16)\n",
    "# Data to be encrypted\n",
    "data = b\"Hello, AES!\"\n",
    " # Encrypt the data\n",
    "encrypted_data = aes_encrypt(key, data)\n",
    "print(\"Encrypted:\", encrypted_data.hex())\n",
    " # Decrypt the data\n",
    "decrypted_data = aes_decrypt(key, encrypted_data)\n",
    "print(\"Decrypted:\", decrypted_data.decode('utf-8'))"
   ]
  },
  {
   "cell_type": "code",
   "execution_count": null,
   "id": "0a9b586e-354b-4a5b-ab43-181b589dc5c7",
   "metadata": {},
   "outputs": [],
   "source": []
  }
 ],
 "metadata": {
  "kernelspec": {
   "display_name": "Python 3 (ipykernel)",
   "language": "python",
   "name": "python3"
  },
  "language_info": {
   "codemirror_mode": {
    "name": "ipython",
    "version": 3
   },
   "file_extension": ".py",
   "mimetype": "text/x-python",
   "name": "python",
   "nbconvert_exporter": "python",
   "pygments_lexer": "ipython3",
   "version": "3.11.7"
  }
 },
 "nbformat": 4,
 "nbformat_minor": 5
}

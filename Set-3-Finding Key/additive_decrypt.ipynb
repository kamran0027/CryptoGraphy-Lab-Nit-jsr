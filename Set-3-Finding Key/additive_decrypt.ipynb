{
 "cells": [
  {
   "cell_type": "code",
   "execution_count": 1,
   "id": "9c939f35-0892-4b6e-8ed1-1c75015a2e40",
   "metadata": {},
   "outputs": [
    {
     "name": "stdout",
     "output_type": "stream",
     "text": [
      "Key 0: PDAKLANWPEKJOPWNP\n",
      "Key 1: OCZJKZMVODJINOVMO\n",
      "Key 2: NBYIJYLUNCIHMNULN\n",
      "Key 3: MAXHIXKTMBHGLMTKM\n",
      "Key 4: LZWGHWJSLAGFKLSJL\n",
      "Key 5: KYVFGVIRKZFEJKRIK\n",
      "Key 6: JXUEFUHQJYEDIJQHJ\n",
      "Key 7: IWTDETGPIXDCHIPGI\n",
      "Key 8: HVSCDSFOHWCBGHOFH\n",
      "Key 9: GURBCRENGVBAFGNEG\n",
      "Key 10: FTQABQDMFUAZEFMDF\n",
      "Key 11: ESPZAPCLETZYDELCE\n",
      "Key 12: DROYZOBKDSYXCDKBD\n",
      "Key 13: CQNXYNAJCRXWBCJAC\n",
      "Key 14: BPMWXMZIBQWVABIZB\n",
      "Key 15: AOLVWLYHAPVUZAHYA\n",
      "Key 16: ZNKUVKXGZOUTYZGXZ\n",
      "Key 17: YMJTUJWFYNTSXYFWY\n",
      "Key 18: XLISTIVEXMSRWXEVX\n",
      "Key 19: WKHRSHUDWLRQVWDUW\n",
      "Key 20: VJGQRGTCVKQPUVCTV\n",
      "Key 21: UIFPQFSBUJPOTUBSU\n",
      "Key 22: THEOPERATIONSTART\n",
      "Key 23: SGDNODQZSHNMRSZQS\n",
      "Key 24: RFCMNCPYRGMLQRYPR\n",
      "Key 25: QEBLMBOXQFLKPQXOQ\n"
     ]
    }
   ],
   "source": [
    "def additive_decrypt(ciphertext):\n",
    "    ciphertext = ciphertext.upper()\n",
    "    for key in range(26):\n",
    "        plaintext = ''\n",
    "        for char in ciphertext:\n",
    "            if char.isalpha():\n",
    "                decrypted = (ord(char) - ord('A') - key) % 26\n",
    "                plaintext += chr(decrypted + ord('A'))\n",
    "            else:\n",
    "                plaintext += char\n",
    "        print(f'Key {key}: {plaintext}')\n",
    "\n",
    "ciphertext = \"PDAKLANWPEKJOPWNP\" \n",
    "additive_decrypt(ciphertext)"
   ]
  },
  {
   "cell_type": "code",
   "execution_count": null,
   "id": "f9469d56-3829-470e-b7b2-230b19cb58f8",
   "metadata": {},
   "outputs": [],
   "source": []
  }
 ],
 "metadata": {
  "kernelspec": {
   "display_name": "Python 3 (ipykernel)",
   "language": "python",
   "name": "python3"
  },
  "language_info": {
   "codemirror_mode": {
    "name": "ipython",
    "version": 3
   },
   "file_extension": ".py",
   "mimetype": "text/x-python",
   "name": "python",
   "nbconvert_exporter": "python",
   "pygments_lexer": "ipython3",
   "version": "3.11.7"
  }
 },
 "nbformat": 4,
 "nbformat_minor": 5
}

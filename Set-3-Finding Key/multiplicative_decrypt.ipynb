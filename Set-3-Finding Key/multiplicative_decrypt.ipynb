{
 "cells": [
  {
   "cell_type": "code",
   "execution_count": 1,
   "id": "912aaebe-38aa-4faf-b8e6-7ddbfc2ac3f8",
   "metadata": {},
   "outputs": [
    {
     "name": "stdout",
     "output_type": "stream",
     "text": [
      "Key 1 (inv 1): WNYJCLHAPPVSPWI\n",
      "Key 3 (inv 9): QNIDSVLAFFHGFQU\n",
      "Key 5 (inv 21): UNKHQXRADDZODUM\n",
      "Key 7 (inv 15): SNWFEJBARRDKRSQ\n",
      "Key 9 (inv 3): ONUBGHVATTLCTOY\n",
      "Key 11 (inv 19): CNOPMBDAZZJEZCW\n",
      "Key 15 (inv 7): YNMLOZXABBRWBYE\n",
      "Key 17 (inv 23): MNGZUTFAHHPYHMC\n",
      "Key 19 (inv 11): INEVWRZAJJXQJIK\n",
      "Key 21 (inv 5): GNQTKDJAXXBMXGO\n",
      "Key 23 (inv 17): KNSXIFPAVVTUVKG\n",
      "Key 25 (inv 25): ENCRYPTALLFILES\n"
     ]
    }
   ],
   "source": [
    "import math \n",
    "\n",
    "def modinv(a):\n",
    "    for x in range(1, 26):\n",
    "        if (a * x) % 26 == 1:\n",
    "            return x\n",
    "    return None\n",
    "\n",
    "def multiplicative_decrypt(ciphertext):\n",
    "    ciphertext = ciphertext.upper()\n",
    "    for key in range(1, 26):\n",
    "        if math.gcd(key, 26) == 1:\n",
    "            inv = modinv(key)\n",
    "            if inv:\n",
    "                plaintext = ''\n",
    "                for char in ciphertext:\n",
    "                    if char.isalpha():\n",
    "                        decrypted = (inv * (ord(char) - ord('A'))) % 26\n",
    "                        plaintext += chr(decrypted + ord('A'))\n",
    "                    else:\n",
    "                        plaintext += char\n",
    "                print(f'Key {key} (inv {inv}): {plaintext}')\n",
    "\n",
    "ciphertext = \"WNYJCLHAPPVSPWI\" \n",
    "multiplicative_decrypt(ciphertext)"
   ]
  },
  {
   "cell_type": "code",
   "execution_count": null,
   "id": "f7814d80-35e9-4d4a-ab83-c7d92ba16a80",
   "metadata": {},
   "outputs": [],
   "source": []
  }
 ],
 "metadata": {
  "kernelspec": {
   "display_name": "Python 3 (ipykernel)",
   "language": "python",
   "name": "python3"
  },
  "language_info": {
   "codemirror_mode": {
    "name": "ipython",
    "version": 3
   },
   "file_extension": ".py",
   "mimetype": "text/x-python",
   "name": "python",
   "nbconvert_exporter": "python",
   "pygments_lexer": "ipython3",
   "version": "3.11.7"
  }
 },
 "nbformat": 4,
 "nbformat_minor": 5
}

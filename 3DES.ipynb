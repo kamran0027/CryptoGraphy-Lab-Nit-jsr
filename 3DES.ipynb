{
 "cells": [
  {
   "cell_type": "code",
   "execution_count": 9,
   "id": "bd994e7a-1728-446d-9b33-0105c796bb1f",
   "metadata": {},
   "outputs": [
    {
     "name": "stdout",
     "output_type": "stream",
     "text": [
      "Requirement already satisfied: des in c:\\users\\kamra\\anaconda3\\lib\\site-packages (1.0.6)\n",
      "Note: you may need to restart the kernel to use updated packages.\n"
     ]
    }
   ],
   "source": [
    "pip install des"
   ]
  },
  {
   "cell_type": "code",
   "execution_count": 18,
   "id": "442a9c9b-bd5e-4eef-bb76-9d1f43dce588",
   "metadata": {},
   "outputs": [
    {
     "name": "stdout",
     "output_type": "stream",
     "text": [
      "Encrypted: 6cb5f066d40e013d92902243264dcd65be7c857cdd64f300\n",
      "Decrypted: Hello , Triple DES!\n"
     ]
    }
   ],
   "source": [
    "from des import DesKey\n",
    "import os\n",
    "\n",
    "def pad_data(data):\n",
    "    padding_size = 8 - (len(data) % 8)\n",
    "    return data + bytes([padding_size] * padding_size)\n",
    "\n",
    "def unpad_data(data):\n",
    "    padding_size = data[-1]\n",
    "    return data[:-padding_size]\n",
    "\n",
    "def triple_des_encrypt(key1, key2, key3, data):\n",
    "    des1 = DesKey(key1)\n",
    "    des2 = DesKey(key2)\n",
    "    des3 = DesKey(key3)\n",
    "    \n",
    "    step1 = des1.encrypt(data)        # Encrypt with K1\n",
    "    step2 = des2.decrypt(step1)       # Decrypt with K2\n",
    "    step3 = des3.encrypt(step2)       # Encrypt with K3\n",
    "    return step3\n",
    "\n",
    "def triple_des_decrypt(key1, key2, key3, encrypted_data):\n",
    "    des1 = DesKey(key1)\n",
    "    des2 = DesKey(key2)\n",
    "    des3 = DesKey(key3)\n",
    "    \n",
    "    step1 = des3.decrypt(encrypted_data)  # Decrypt with K3\n",
    "    step2 = des2.encrypt(step1)           # Encrypt with K2\n",
    "    step3 = des1.decrypt(step2)           # Decrypt with K1\n",
    "    return step3\n",
    "\n",
    "# ✅ Data to be encrypted\n",
    "data =b\"Hello , Triple DES!\"\n",
    "\n",
    "# ✅ Encrypt\n",
    "encrypted_data = triple_des_encrypt(key1, key2, key3, pad_data(data))\n",
    "print(\"Encrypted:\", encrypted_data.hex())\n",
    "\n",
    "# ✅ Decrypt\n",
    "decrypted_data = triple_des_decrypt(key1, key2, key3, encrypted_data)\n",
    "decrypted_data = unpad_data(decrypted_data)\n",
    "print(\"Decrypted:\", decrypted_data.decode(\"utf-8\"))\n"
   ]
  },
  {
   "cell_type": "code",
   "execution_count": null,
   "id": "8eb76bfa-4cf5-48a5-88bc-7cef88cb8589",
   "metadata": {},
   "outputs": [],
   "source": []
  }
 ],
 "metadata": {
  "kernelspec": {
   "display_name": "Python 3 (ipykernel)",
   "language": "python",
   "name": "python3"
  },
  "language_info": {
   "codemirror_mode": {
    "name": "ipython",
    "version": 3
   },
   "file_extension": ".py",
   "mimetype": "text/x-python",
   "name": "python",
   "nbconvert_exporter": "python",
   "pygments_lexer": "ipython3",
   "version": "3.11.7"
  }
 },
 "nbformat": 4,
 "nbformat_minor": 5
}

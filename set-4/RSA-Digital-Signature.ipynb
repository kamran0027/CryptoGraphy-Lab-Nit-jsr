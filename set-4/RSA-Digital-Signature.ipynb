{
 "cells": [
  {
   "cell_type": "code",
   "execution_count": 1,
   "id": "74afbab8-2a39-4ab2-8c8f-5832a2808e9b",
   "metadata": {},
   "outputs": [
    {
     "name": "stdout",
     "output_type": "stream",
     "text": [
      "Sender's Public Key (e, n): (5, 7990271)\n",
      "Sender's Private Key (d, n): (1596269, 7990271)\n",
      "\n",
      "Original Message: 123\n",
      "Digital Signature (signed message): 1631240\n",
      "Verified Message: 123\n",
      " Signature is valid. Message is authenticated.\n"
     ]
    }
   ],
   "source": [
    "def power(base, expo, mod):\n",
    "    result = 1\n",
    "    base = base % mod\n",
    "    while expo > 0:\n",
    "        if expo % 2 == 1:\n",
    "            result = (result * base) % mod\n",
    "        base = (base * base) % mod\n",
    "        expo = expo // 2\n",
    "    return result\n",
    "\n",
    "def gcd(a, b):\n",
    "    while b:\n",
    "        a, b = b, a % b\n",
    "    return a\n",
    "\n",
    "# Brute-force modular inverse\n",
    "def mod_inverse(e, phi):\n",
    "    for d in range(2, phi):\n",
    "        if (e * d) % phi == 1:\n",
    "            return d\n",
    "    return -1\n",
    "\n",
    "# Generate RSA key pair (public and private)\n",
    "def generate_keys():\n",
    "    p = 7919\n",
    "    q = 1009\n",
    "    n = p * q\n",
    "    phi = (p - 1) * (q - 1)\n",
    "\n",
    "    for e in range(2, phi):\n",
    "        if gcd(e, phi) == 1:\n",
    "            break\n",
    "\n",
    "    d = mod_inverse(e, phi)\n",
    "    return e, d, n\n",
    "\n",
    "# \"Signing\" is encrypting hash/message with private key\n",
    "def sign(message, private_key, n):\n",
    "    return power(message, private_key, n)\n",
    "\n",
    "# \"Verification\" is decrypting signature with public key\n",
    "def verify(signature, public_key, n):\n",
    "    return power(signature, public_key, n)\n",
    "\n",
    "# Main authentication example\n",
    "def main():\n",
    "    # Sender generates RSA keys\n",
    "    sender_public_key, sender_private_key, n = generate_keys()\n",
    "\n",
    "    print(f\"Sender's Public Key (e, n): ({sender_public_key}, {n})\")\n",
    "    print(f\"Sender's Private Key (d, n): ({sender_private_key}, {n})\")\n",
    "\n",
    "    # Message to be sent\n",
    "    message = 123  # Can be a hash of a real message\n",
    "    print(f\"\\nOriginal Message: {message}\")\n",
    "\n",
    "    # Sender signs the message using their private key\n",
    "    signature = sign(message, sender_private_key, n)\n",
    "    print(f\"Digital Signature (signed message): {signature}\")\n",
    "\n",
    "    # Receiver verifies using the sender's public key\n",
    "    verified_message = verify(signature, sender_public_key, n)\n",
    "    print(f\"Verified Message: {verified_message}\")\n",
    "\n",
    "    # Check if verified message matches original\n",
    "    if verified_message == message:\n",
    "        print(\" Signature is valid. Message is authenticated.\")\n",
    "    else:\n",
    "        print(\" Signature is invalid. Message is NOT authenticated.\")\n",
    "\n",
    "if __name__ == \"__main__\":\n",
    "    main()"
   ]
  },
  {
   "cell_type": "code",
   "execution_count": null,
   "id": "f931c6c0-ff6c-4002-a810-4fb56175aa06",
   "metadata": {},
   "outputs": [],
   "source": []
  }
 ],
 "metadata": {
  "kernelspec": {
   "display_name": "Python 3 (ipykernel)",
   "language": "python",
   "name": "python3"
  },
  "language_info": {
   "codemirror_mode": {
    "name": "ipython",
    "version": 3
   },
   "file_extension": ".py",
   "mimetype": "text/x-python",
   "name": "python",
   "nbconvert_exporter": "python",
   "pygments_lexer": "ipython3",
   "version": "3.11.7"
  }
 },
 "nbformat": 4,
 "nbformat_minor": 5
}
